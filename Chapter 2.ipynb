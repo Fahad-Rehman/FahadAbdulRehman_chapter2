{
 "cells": [
  {
   "cell_type": "markdown",
   "metadata": {},
   "source": [
    "# Chapter No: 2<br>Fahad Abdul Rehman Section A"
   ]
  },
  {
   "cell_type": "code",
   "execution_count": 18,
   "metadata": {},
   "outputs": [
    {
     "name": "stdout",
     "output_type": "stream",
     "text": [
      "Sum of first five integers is 15\n",
      "The average of 3 age is: 24.333333333333332\n",
      "73 goes  5  many times in 403\n",
      "The remainder is: 38\n",
      "1024\n",
      "3\n",
      "29.95\n"
     ]
    }
   ],
   "source": [
    "#Problem 1\n",
    "#Part a\n",
    "#Sum of first five integers\n",
    "SUM = 1 + 2 + 3 + 4 + 5\n",
    "print(\"Sum of first five integers is\", SUM)\n",
    "\n",
    "#part b\n",
    "#Calculating average of 3 age\n",
    "Sara = 23\n",
    "Mark = 19\n",
    "Fatima = 31\n",
    "avg_age = (Sara + Mark + Fatima) / 3\n",
    "print(\"The average of 3 age is:\", avg_age)\n",
    "\n",
    "#Part c\n",
    "a = 403\n",
    "b = 73\n",
    "div = a // b\n",
    "print(\"73 goes \", div ,\" many times in 403\")\n",
    "\n",
    "#Part d\n",
    "A = 403\n",
    "B = 73\n",
    "remainder = A % B\n",
    "print(\"The remainder is:\", remainder)\n",
    "\n",
    "#Part e\n",
    "c = 2**10\n",
    "print(c)\n",
    "\n",
    "#Part f\n",
    "sara = 54\n",
    "mark = 57\n",
    "absolute_value = abs(sara-mark)\n",
    "print(absolute_value)\n",
    "\n",
    "#Part g\n",
    "price1 = 34.99\n",
    "price2 = 29.95\n",
    "price3 = 31.50\n",
    "lowest_price = min(price1, price2, price3)\n",
    "print(lowest_price)"
   ]
  },
  {
   "cell_type": "code",
   "execution_count": 19,
   "metadata": {},
   "outputs": [
    {
     "name": "stdout",
     "output_type": "stream",
     "text": [
      "False\n",
      "True\n",
      "True\n",
      "False\n",
      "True\n",
      "False\n",
      "True\n"
     ]
    }
   ],
   "source": [
    "#Problem 2\n",
    "#Part a\n",
    "a = 2 + 2 < 4\n",
    "print(a)\n",
    "#Part b\n",
    "b = 7 // 3 == 1 + 1\n",
    "print(b)\n",
    "#Part c\n",
    "c = 3**2 + 4**2 == 25\n",
    "print(c)\n",
    "#Part d\n",
    "d = 2 + 4 + 6 > 12\n",
    "print(d)\n",
    "#Part e \n",
    "e = 1387 % 19 == 0\n",
    "print(e)\n",
    "#Part f\n",
    "f = 31 % 2 == 0\n",
    "print(f)\n",
    "#Part g\n",
    "g = min(34.99, 29.95, 31.50) < 30.00\n",
    "print(g)"
   ]
  },
  {
   "cell_type": "code",
   "execution_count": 20,
   "metadata": {},
   "outputs": [],
   "source": [
    "#Problem 3\n",
    "a = 3\n",
    "b = 4\n",
    "c = a * a + b * b"
   ]
  },
  {
   "cell_type": "code",
   "execution_count": 21,
   "metadata": {},
   "outputs": [
    {
     "name": "stdout",
     "output_type": "stream",
     "text": [
      "ant bat cod\n",
      "ant ant ant ant ant ant ant ant ant ant \n",
      "ant bat bat cod cod cod\n",
      "ant bat ant bat ant bat ant bat ant bat ant bat ant bat \n",
      "batbatcod batbatcod batbatcod batbatcod batbatcod \n"
     ]
    }
   ],
   "source": [
    "#Problem 4\n",
    "s1 = 'ant'\n",
    "s2 = 'bat'\n",
    "s3 = 'cod'\n",
    "a = s1 + ' ' + s2 + ' ' + s3\n",
    "print(a)\n",
    "b = 10 * (s1 + ' ')\n",
    "print(b)\n",
    "c = s1 + ' ' + 2 * (s2 + ' ') + 2 * (s3 + ' ') + s3\n",
    "print(c)\n",
    "d = 7 * (s1 + ' ' + s2 + ' ')\n",
    "print(d)\n",
    "e = 5 * (2 * s2 + s3 + ' ')\n",
    "print(e)"
   ]
  },
  {
   "cell_type": "code",
   "execution_count": 22,
   "metadata": {},
   "outputs": [
    {
     "name": "stdout",
     "output_type": "stream",
     "text": [
      "0\n",
      "1\n",
      "6\n",
      "8\n",
      "9\n"
     ]
    }
   ],
   "source": [
    "#Problem 5\n",
    "s = '0123456789'\n",
    "a = s[0]\n",
    "print(a)\n",
    "b = s[1]\n",
    "print(b)\n",
    "c = s[6]\n",
    "print(c)\n",
    "d = s[8]\n",
    "print(d)\n",
    "e = s[9]\n",
    "print(e)"
   ]
  },
  {
   "cell_type": "code",
   "execution_count": 23,
   "metadata": {},
   "outputs": [
    {
     "name": "stdout",
     "output_type": "stream",
     "text": [
      "badminton\n",
      "bat\n"
     ]
    }
   ],
   "source": [
    "#Problem 6\n",
    "words = ['bat', 'ball', 'barn', 'basket', 'badminton']\n",
    "a = min(words)\n",
    "print(a)\n",
    "b = max(words)\n",
    "print(b)"
   ]
  },
  {
   "cell_type": "code",
   "execution_count": 29,
   "metadata": {},
   "outputs": [
    {
     "name": "stdout",
     "output_type": "stream",
     "text": [
      "2\n",
      "[9, 7, 7, 10, 3, 9, 6, 6, 4]\n",
      "10\n",
      "[3, 4, 6, 6, 7, 7, 9, 9, 10]\n",
      "6.777777777777778\n"
     ]
    }
   ],
   "source": [
    "#Problem 7\n",
    "grades = [9, 7, 7, 10, 3, 9, 6, 6, 2]\n",
    "print(grades.count(7))\n",
    "grades[-1] = 4\n",
    "print(grades)\n",
    "print(max(grades))\n",
    "grades.sort()\n",
    "print(grades)\n",
    "print(sum(grades) / len(grades))"
   ]
  },
  {
   "cell_type": "code",
   "execution_count": 34,
   "metadata": {},
   "outputs": [
    {
     "name": "stdout",
     "output_type": "stream",
     "text": [
      "True\n",
      "False\n",
      "False\n",
      "18\n",
      "True\n"
     ]
    }
   ],
   "source": [
    "#Problem 8\n",
    "a = (2 + 3 == 4) or 2 + 3 >= 5\n",
    "print(a)\n",
    "lst = [1, 2]\n",
    "b = (((lst[1]) * (-3))) < (-10) == 0\n",
    "print(b)\n",
    "c = (((lst[1]) * (-3))) < (-10) in [0, True]\n",
    "print(c)\n",
    "d = 2 * (3**2)\n",
    "print(d)\n",
    "e = (4 / 2) in [1, 2, 3]\n",
    "print(e)"
   ]
  },
  {
   "cell_type": "code",
   "execution_count": 39,
   "metadata": {},
   "outputs": [
    {
     "name": "stdout",
     "output_type": "stream",
     "text": [
      "<class 'int'>\n",
      "<class 'float'>\n",
      "<class 'int'>\n",
      "<class 'bool'>\n"
     ]
    }
   ],
   "source": [
    "#Problem 9\n",
    "a = False + False\n",
    "print(type(a))\n",
    "b = 2 * 3**2.0\n",
    "print(type(b))\n",
    "c = 4 // 2  + 4 % 2\n",
    "print(type(c))\n",
    "d = 2 + 3 == 4 or 5>= 5\n",
    "print(type(d))"
   ]
  },
  {
   "cell_type": "code",
   "execution_count": 40,
   "metadata": {},
   "outputs": [
    {
     "name": "stdout",
     "output_type": "stream",
     "text": [
      "7.211102550927978\n",
      "False\n",
      "50.26548245743669\n",
      "False\n"
     ]
    }
   ],
   "source": [
    "#Problem 10\n",
    "import math\n",
    "a = 4\n",
    "b = 6\n",
    "res = math.sqrt(a**2 + b**2)\n",
    "print(res)\n",
    "res1 = math.sqrt(a**2 + b**2) == 5\n",
    "print(res1)\n",
    "res2 = math.pi * a**2\n",
    "print(res2)\n",
    "x = 5\n",
    "y = 9\n",
    "r = 2\n",
    "res3 = (x - a)**2 + (y - b)**2 < r**2\n",
    "print(res3)"
   ]
  },
  {
   "cell_type": "code",
   "execution_count": 45,
   "metadata": {},
   "outputs": [
    {
     "name": "stdout",
     "output_type": "stream",
     "text": [
      "[-7, -6, -5, -4, -3, -2, -1]\n",
      "10.651685393258427\n",
      "9.5367431640625e-07\n",
      "61 goes 74 many times in 4536\n",
      "The remainder is: 22\n"
     ]
    }
   ],
   "source": [
    "#Problem 11\n",
    "#Part a\n",
    "lst = [-7, -6, -5, -4, -3, -2, -1]\n",
    "sum(lst)\n",
    "print(lst)\n",
    "#Part b\n",
    "total_kids = 17 + 24 + 21 + 27\n",
    "age = (17*9) + (24*10) + (21*11) + (27*12)\n",
    "avg_age = age / total_kids\n",
    "print(avg_age)\n",
    "#Part c\n",
    "a = 2**-20\n",
    "print(a)\n",
    "#Part d\n",
    "a = 4536\n",
    "b = 61\n",
    "divide = a // b\n",
    "print(\"61 goes\",divide,(\"many times in 4536\"))\n",
    "#Part e\n",
    "x = 4365\n",
    "y = 61\n",
    "remainder = a % b\n",
    "print(\"The remainder is:\",remainder)"
   ]
  },
  {
   "cell_type": "code",
   "execution_count": 53,
   "metadata": {},
   "outputs": [
    {
     "name": "stdout",
     "output_type": "stream",
     "text": [
      "-+\n",
      "-+-\n",
      "+--\n",
      "+--+--\n",
      "+--+--+--+--+--+--+--+--+--+--+\n",
      "+-+++--+-+++--+-+++--+-+++--+-+++--\n"
     ]
    }
   ],
   "source": [
    "#Problem 12\n",
    "s1 = '-'\n",
    "s2 = '+'\n",
    "#Part a\n",
    "a = s1+s2\n",
    "print(a)\n",
    "#Part b\n",
    "b = s1+s2+s1\n",
    "print(b)\n",
    "#Part c\n",
    "c = s2 + (s1*2)\n",
    "print(c)\n",
    "#Part d\n",
    "d = s2 + (s1*2) + s2 +(s1*2)\n",
    "print(d)\n",
    "#Part e\n",
    "e = s2 + (s1*2) + s2 +(s1*2) + s2 + (s1*2) + s2 +(s1*2) + s2 + (s1*2) + s2 +(s1*2) + s2 + (s1*2) + s2 +(s1*2) + s2 + (s1*2) + s2 +(s1*2) + s2\n",
    "print(e)\n",
    "#Part f\n",
    "f = s2 + s1 + (s2*3) + (s1*2) + s2 + s1 + (s2*3) + (s1*2) + s2 + s1 + (s2*3) + (s1*2) + s2 + s1 + (s2*3) + (s1*2) + s2 + s1 + (s2*3) + (s1*2)\n",
    "print(f)"
   ]
  },
  {
   "cell_type": "code",
   "execution_count": 54,
   "metadata": {},
   "outputs": [
    {
     "name": "stdout",
     "output_type": "stream",
     "text": [
      "a\n",
      "c\n",
      "z\n",
      "y\n",
      "q\n"
     ]
    }
   ],
   "source": [
    "#Problem 13\n",
    "s = 'abcdefghijklmnopqrstuvwxyz'\n",
    "a= s[0]\n",
    "print(a)\n",
    "b = s[2]\n",
    "print(b)\n",
    "c = s[25]\n",
    "print(c)\n",
    "d = s[24]\n",
    "print(d)\n",
    "e = s[16]\n",
    "print(e)"
   ]
  },
  {
   "cell_type": "code",
   "execution_count": 56,
   "metadata": {},
   "outputs": [
    {
     "name": "stdout",
     "output_type": "stream",
     "text": [
      "True\n",
      "False\n",
      "False\n",
      "False\n",
      "True\n",
      "False\n",
      "False\n"
     ]
    }
   ],
   "source": [
    "#Problem 14\n",
    "s = 'goodbye'\n",
    "#Part a\n",
    "a = s[0] == 'g'\n",
    "print(a)\n",
    "#Part b\n",
    "b = s[6] == 'g'\n",
    "print(b)\n",
    "#Part c\n",
    "c = s[0] == 'g' and s[1] == 'a'\n",
    "print(c)\n",
    "#Part d\n",
    "d = s[-5] == 'x'\n",
    "print(d)\n",
    "#Part e\n",
    "e = s[3] == 'd'\n",
    "print(e)\n",
    "#Part f\n",
    "f = s[0] == s[6]\n",
    "print(f)\n",
    "#Part g\n",
    "g = s[3:7] == 'tion'\n",
    "print(g)"
   ]
  },
  {
   "cell_type": "code",
   "execution_count": 62,
   "metadata": {},
   "outputs": [
    {
     "name": "stdout",
     "output_type": "stream",
     "text": [
      "anachronistically\n",
      "misinterpretation\n",
      "misrepresentation\n",
      "Not found\n",
      "They are equal\n"
     ]
    }
   ],
   "source": [
    "#Problem 15\n",
    "#Part a\n",
    "a = len(\"anachronistically\")\n",
    "b = len(\"counterintuitive\")\n",
    "\n",
    "if a > b:\n",
    "    print(\"anachronistically\")\n",
    "else:\n",
    "    print(\"counterintuitive\")\n",
    "\n",
    "#Part b\n",
    "words = {'misrepresentation': 'c' ,\n",
    "        'misinterpretation': 'python' ,\n",
    "        }\n",
    "for words in sorted(words.keys()):\n",
    "    print(words)\n",
    "\n",
    "#Part c\n",
    "c = \"floccinaucinihilipilification\"\n",
    "find = \"e\"\n",
    "if find in c:\n",
    "    print(\"Found\")\n",
    "else:\n",
    "    print(\"Not found\")\n",
    "\n",
    "#Part d\n",
    "A = len(\"counterrevolution\")\n",
    "B = len(\"Counter\")\n",
    "C = len(\"Resolution\")\n",
    "total_sum = B + C\n",
    "if A == total_sum:\n",
    "    print(\"They are equal\")\n",
    "else:\n",
    "    print(\"They are not equal\")"
   ]
  },
  {
   "cell_type": "code",
   "execution_count": 66,
   "metadata": {},
   "outputs": [],
   "source": [
    "#Problem 16\n",
    "a = 6\n",
    "b = 7\n",
    "c = float(a+b) / 2\n",
    "inventory = ['paper ', 'staples ', 'pencils ']\n",
    "first = str('John')\n",
    "middle = str('Fitzgerald')\n",
    "last = str('Kennedy')\n",
    "fullname = (first + \" \" + middle + \" \" + last)"
   ]
  },
  {
   "cell_type": "code",
   "execution_count": 75,
   "metadata": {},
   "outputs": [
    {
     "name": "stdout",
     "output_type": "stream",
     "text": [
      "True\n",
      "False\n",
      "True\n",
      "True\n",
      "True\n"
     ]
    }
   ],
   "source": [
    "#Problem 17\n",
    "a = 6\n",
    "b = 7\n",
    "c = float(a+b) / 2\n",
    "inventory = ['paper ', 'staples ', 'pencils ']\n",
    "first = str('John')\n",
    "middle = str('Fitzgerald')\n",
    "last = str('Kennedy')\n",
    "fullname = (first + \" \" + middle + \" \" + last)\n",
    "\n",
    "#Part a\n",
    "Sum = 17 + -9 < 10\n",
    "print(Sum)\n",
    "#Part b\n",
    "b = len(inventory) > len(5 * fullname)\n",
    "print(b)\n",
    "#Part c\n",
    "C = c != 24\n",
    "print(C)\n",
    "#Part d\n",
    "d = a <= 6.75 >= b\n",
    "print(d)\n",
    "#Part e\n",
    "e = len(middle) > len(first) and len(middle) < len(last)\n",
    "print(d)\n",
    "#Part f\n",
    "f = inventory == 0 or inventory != 10"
   ]
  },
  {
   "cell_type": "code",
   "execution_count": 155,
   "metadata": {},
   "outputs": [
    {
     "name": "stdout",
     "output_type": "stream",
     "text": [
      "['rose', 'bougainvillea']\n",
      "['lilly', 'of', 'the', 'valley']\n",
      "['rose', 'bougainvillea', 'lilly', 'of', 'the', 'valley']\n"
     ]
    }
   ],
   "source": [
    "#Problem 18\n",
    "#Part a\n",
    "flowers = ['rose', 'bougainvillea', 'yucca', 'marigold', 'daylilly', 'lilly of the valley', ]\n",
    "#Part b\n",
    "find = 'potato'\n",
    "if find in flowers:\n",
    "    print(bool('True'))\n",
    "#Part c\n",
    "thorny = flowers[0:2]\n",
    "print(thorny)\n",
    "#Part d\n",
    "poisonous = flowers[-1].split()\n",
    "print(poisonous)\n",
    "#Part e\n",
    "dangerous = thorny + poisonous\n",
    "print(dangerous)"
   ]
  },
  {
   "cell_type": "code",
   "execution_count": 107,
   "metadata": {},
   "outputs": [
    {
     "name": "stdout",
     "output_type": "stream",
     "text": [
      "5\n",
      "6\n",
      "45.45454545454545 %\n",
      "['N', 'N', 'N', 'N', 'N', 'N', 'Y', 'Y', 'Y', 'Y', 'Y']\n",
      "6\n"
     ]
    }
   ],
   "source": [
    "#Problem 19\n",
    "answers = ['Y', 'N', 'N', 'Y', 'N', 'Y', 'Y', 'Y', 'N', 'N', 'N']\n",
    "#Part a\n",
    "numYes = answers.count('Y')\n",
    "print(numYes)\n",
    "#Part b\n",
    "numNo = answers.count('N')\n",
    "print(numNo)\n",
    "#Part c\n",
    "percentYes = (answers.count('Y') / len(answers)) * 100\n",
    "print(percentYes,'%')\n",
    "#Part d\n",
    "answers.sort()\n",
    "print(answers)\n",
    "#Part e\n",
    "f = answers.index('Y')\n",
    "print(f)"
   ]
  },
  {
   "cell_type": "code",
   "execution_count": 111,
   "metadata": {},
   "outputs": [
    {
     "name": "stdout",
     "output_type": "stream",
     "text": [
      "tah\n"
     ]
    }
   ],
   "source": [
    "#Problem 20\n",
    "s1 = 'hat'\n",
    "s2 = s1[::-1]\n",
    "print(s2)"
   ]
  },
  {
   "cell_type": "code",
   "execution_count": 160,
   "metadata": {},
   "outputs": [
    {
     "name": "stdout",
     "output_type": "stream",
     "text": [
      "UR\n"
     ]
    }
   ],
   "source": [
    "#Problem 21\n",
    "s = 'Rizwan'\n",
    "t = 'Usman'\n",
    "print(str(t[0:1]) + str(s[0:1]))"
   ]
  },
  {
   "cell_type": "code",
   "execution_count": 113,
   "metadata": {},
   "outputs": [
    {
     "name": "stdout",
     "output_type": "stream",
     "text": [
      "29\n"
     ]
    }
   ],
   "source": [
    "#Problem 22\n",
    "lst = [4, 7, 18, 9, -5, 21, -8]\n",
    "x = 21 - -8\n",
    "print(x)"
   ]
  },
  {
   "cell_type": "code",
   "execution_count": 115,
   "metadata": {},
   "outputs": [
    {
     "name": "stdout",
     "output_type": "stream",
     "text": [
      "['Jan', 'Feb', 'Mar', 'Apr', 'May']\n"
     ]
    },
    {
     "ename": "AttributeError",
     "evalue": "'tuple' object has no attribute 'insert'",
     "output_type": "error",
     "traceback": [
      "\u001b[1;31m---------------------------------------------------------------------------\u001b[0m",
      "\u001b[1;31mAttributeError\u001b[0m                            Traceback (most recent call last)",
      "\u001b[1;32m<ipython-input-115-97bd9426546f>\u001b[0m in \u001b[0;36m<module>\u001b[1;34m\u001b[0m\n\u001b[0;32m      6\u001b[0m \u001b[0mmonthsL\u001b[0m\u001b[1;33m.\u001b[0m\u001b[0minsert\u001b[0m\u001b[1;33m(\u001b[0m\u001b[1;36m3\u001b[0m\u001b[1;33m,\u001b[0m \u001b[1;34m'Apr'\u001b[0m\u001b[1;33m)\u001b[0m\u001b[1;33m\u001b[0m\u001b[1;33m\u001b[0m\u001b[0m\n\u001b[0;32m      7\u001b[0m \u001b[0mprint\u001b[0m\u001b[1;33m(\u001b[0m\u001b[0mmonthsL\u001b[0m\u001b[1;33m)\u001b[0m\u001b[1;33m\u001b[0m\u001b[1;33m\u001b[0m\u001b[0m\n\u001b[1;32m----> 8\u001b[1;33m \u001b[0mmonthsT\u001b[0m\u001b[1;33m.\u001b[0m\u001b[0minsert\u001b[0m\u001b[1;33m(\u001b[0m\u001b[1;36m3\u001b[0m\u001b[1;33m,\u001b[0m \u001b[1;34m'Apr'\u001b[0m\u001b[1;33m)\u001b[0m\u001b[1;33m\u001b[0m\u001b[1;33m\u001b[0m\u001b[0m\n\u001b[0m\u001b[0;32m      9\u001b[0m \u001b[0mprint\u001b[0m\u001b[1;33m(\u001b[0m\u001b[0mmonthsT\u001b[0m\u001b[1;33m)\u001b[0m\u001b[1;33m\u001b[0m\u001b[1;33m\u001b[0m\u001b[0m\n",
      "\u001b[1;31mAttributeError\u001b[0m: 'tuple' object has no attribute 'insert'"
     ]
    }
   ],
   "source": [
    "#Problem 23\n",
    "monthsL = ['Jan', 'Feb', 'Mar', 'May']\n",
    "monthsT = ('Jan', 'Feb', 'Mar', 'May')\n",
    "\n",
    "#Part a\n",
    "monthsL.insert(3, 'Apr')\n",
    "print(monthsL)\n",
    "monthsT.insert(3, 'Apr')\n",
    "print(monthsT)"
   ]
  },
  {
   "cell_type": "code",
   "execution_count": 116,
   "metadata": {},
   "outputs": [
    {
     "name": "stdout",
     "output_type": "stream",
     "text": [
      "['Jan', 'Feb', 'Mar', 'May', 'Jun']\n"
     ]
    },
    {
     "ename": "AttributeError",
     "evalue": "'tuple' object has no attribute 'append'",
     "output_type": "error",
     "traceback": [
      "\u001b[1;31m---------------------------------------------------------------------------\u001b[0m",
      "\u001b[1;31mAttributeError\u001b[0m                            Traceback (most recent call last)",
      "\u001b[1;32m<ipython-input-116-67f83aa5b21e>\u001b[0m in \u001b[0;36m<module>\u001b[1;34m\u001b[0m\n\u001b[0;32m      6\u001b[0m \u001b[0mmonthsL\u001b[0m\u001b[1;33m.\u001b[0m\u001b[0mappend\u001b[0m\u001b[1;33m(\u001b[0m\u001b[1;34m'Jun'\u001b[0m\u001b[1;33m)\u001b[0m\u001b[1;33m\u001b[0m\u001b[1;33m\u001b[0m\u001b[0m\n\u001b[0;32m      7\u001b[0m \u001b[0mprint\u001b[0m\u001b[1;33m(\u001b[0m\u001b[0mmonthsL\u001b[0m\u001b[1;33m)\u001b[0m\u001b[1;33m\u001b[0m\u001b[1;33m\u001b[0m\u001b[0m\n\u001b[1;32m----> 8\u001b[1;33m \u001b[0mmonthsT\u001b[0m\u001b[1;33m.\u001b[0m\u001b[0mappend\u001b[0m\u001b[1;33m(\u001b[0m\u001b[1;34m'Jun'\u001b[0m\u001b[1;33m)\u001b[0m\u001b[1;33m\u001b[0m\u001b[1;33m\u001b[0m\u001b[0m\n\u001b[0m\u001b[0;32m      9\u001b[0m \u001b[0mprint\u001b[0m\u001b[1;33m(\u001b[0m\u001b[0mmonthsT\u001b[0m\u001b[1;33m)\u001b[0m\u001b[1;33m\u001b[0m\u001b[1;33m\u001b[0m\u001b[0m\n",
      "\u001b[1;31mAttributeError\u001b[0m: 'tuple' object has no attribute 'append'"
     ]
    }
   ],
   "source": [
    "#Problem 23\n",
    "monthsL = ['Jan', 'Feb', 'Mar', 'May']\n",
    "monthsT = ('Jan', 'Feb', 'Mar', 'May')\n",
    "\n",
    "#Part b\n",
    "monthsL.append('Jun')\n",
    "print(monthsL)\n",
    "monthsT.append('Jun')\n",
    "print(monthsT)"
   ]
  },
  {
   "cell_type": "code",
   "execution_count": 117,
   "metadata": {},
   "outputs": [
    {
     "name": "stdout",
     "output_type": "stream",
     "text": [
      "['Jan', 'Feb', 'Mar']\n"
     ]
    },
    {
     "ename": "AttributeError",
     "evalue": "'tuple' object has no attribute 'pop'",
     "output_type": "error",
     "traceback": [
      "\u001b[1;31m---------------------------------------------------------------------------\u001b[0m",
      "\u001b[1;31mAttributeError\u001b[0m                            Traceback (most recent call last)",
      "\u001b[1;32m<ipython-input-117-ab62a791e3ac>\u001b[0m in \u001b[0;36m<module>\u001b[1;34m\u001b[0m\n\u001b[0;32m      6\u001b[0m \u001b[0mmonthsL\u001b[0m\u001b[1;33m.\u001b[0m\u001b[0mpop\u001b[0m\u001b[1;33m(\u001b[0m\u001b[1;33m)\u001b[0m\u001b[1;33m\u001b[0m\u001b[1;33m\u001b[0m\u001b[0m\n\u001b[0;32m      7\u001b[0m \u001b[0mprint\u001b[0m\u001b[1;33m(\u001b[0m\u001b[0mmonthsL\u001b[0m\u001b[1;33m)\u001b[0m\u001b[1;33m\u001b[0m\u001b[1;33m\u001b[0m\u001b[0m\n\u001b[1;32m----> 8\u001b[1;33m \u001b[0mmonthsT\u001b[0m\u001b[1;33m.\u001b[0m\u001b[0mpop\u001b[0m\u001b[1;33m(\u001b[0m\u001b[1;33m)\u001b[0m\u001b[1;33m\u001b[0m\u001b[1;33m\u001b[0m\u001b[0m\n\u001b[0m\u001b[0;32m      9\u001b[0m \u001b[0mprint\u001b[0m\u001b[1;33m(\u001b[0m\u001b[0mmonthsT\u001b[0m\u001b[1;33m)\u001b[0m\u001b[1;33m\u001b[0m\u001b[1;33m\u001b[0m\u001b[0m\n",
      "\u001b[1;31mAttributeError\u001b[0m: 'tuple' object has no attribute 'pop'"
     ]
    }
   ],
   "source": [
    "#Problem 23\n",
    "monthsL = ['Jan', 'Feb', 'Mar', 'May']\n",
    "monthsT = ('Jan', 'Feb', 'Mar', 'May')\n",
    "\n",
    "#Part c\n",
    "monthsL.pop()\n",
    "print(monthsL)\n",
    "monthsT.pop()\n",
    "print(monthsT)"
   ]
  },
  {
   "cell_type": "code",
   "execution_count": 118,
   "metadata": {},
   "outputs": [
    {
     "name": "stdout",
     "output_type": "stream",
     "text": [
      "['Jan', 'Mar', 'May']\n"
     ]
    },
    {
     "ename": "AttributeError",
     "evalue": "'tuple' object has no attribute 'remove'",
     "output_type": "error",
     "traceback": [
      "\u001b[1;31m---------------------------------------------------------------------------\u001b[0m",
      "\u001b[1;31mAttributeError\u001b[0m                            Traceback (most recent call last)",
      "\u001b[1;32m<ipython-input-118-d946e3f0fc48>\u001b[0m in \u001b[0;36m<module>\u001b[1;34m\u001b[0m\n\u001b[0;32m      6\u001b[0m \u001b[0mmonthsL\u001b[0m\u001b[1;33m.\u001b[0m\u001b[0mremove\u001b[0m\u001b[1;33m(\u001b[0m\u001b[1;34m'Feb'\u001b[0m\u001b[1;33m)\u001b[0m\u001b[1;33m\u001b[0m\u001b[1;33m\u001b[0m\u001b[0m\n\u001b[0;32m      7\u001b[0m \u001b[0mprint\u001b[0m\u001b[1;33m(\u001b[0m\u001b[0mmonthsL\u001b[0m\u001b[1;33m)\u001b[0m\u001b[1;33m\u001b[0m\u001b[1;33m\u001b[0m\u001b[0m\n\u001b[1;32m----> 8\u001b[1;33m \u001b[0mmonthsT\u001b[0m\u001b[1;33m.\u001b[0m\u001b[0mremove\u001b[0m\u001b[1;33m(\u001b[0m\u001b[1;34m'Feb'\u001b[0m\u001b[1;33m)\u001b[0m\u001b[1;33m\u001b[0m\u001b[1;33m\u001b[0m\u001b[0m\n\u001b[0m\u001b[0;32m      9\u001b[0m \u001b[0mprint\u001b[0m\u001b[1;33m(\u001b[0m\u001b[0mmonthsT\u001b[0m\u001b[1;33m)\u001b[0m\u001b[1;33m\u001b[0m\u001b[1;33m\u001b[0m\u001b[0m\n",
      "\u001b[1;31mAttributeError\u001b[0m: 'tuple' object has no attribute 'remove'"
     ]
    }
   ],
   "source": [
    "#Problem 23\n",
    "monthsL = ['Jan', 'Feb', 'Mar', 'May']\n",
    "monthsT = ('Jan', 'Feb', 'Mar', 'May')\n",
    "\n",
    "#Part d\n",
    "monthsL.remove('Feb')\n",
    "print(monthsL)\n",
    "monthsT.remove('Feb')\n",
    "print(monthsT)"
   ]
  },
  {
   "cell_type": "code",
   "execution_count": 119,
   "metadata": {},
   "outputs": [
    {
     "name": "stdout",
     "output_type": "stream",
     "text": [
      "['May', 'Mar', 'Feb', 'Jan']\n"
     ]
    },
    {
     "ename": "AttributeError",
     "evalue": "'tuple' object has no attribute 'reverse'",
     "output_type": "error",
     "traceback": [
      "\u001b[1;31m---------------------------------------------------------------------------\u001b[0m",
      "\u001b[1;31mAttributeError\u001b[0m                            Traceback (most recent call last)",
      "\u001b[1;32m<ipython-input-119-5afaf9b62831>\u001b[0m in \u001b[0;36m<module>\u001b[1;34m\u001b[0m\n\u001b[0;32m      6\u001b[0m \u001b[0mmonthsL\u001b[0m\u001b[1;33m.\u001b[0m\u001b[0mreverse\u001b[0m\u001b[1;33m(\u001b[0m\u001b[1;33m)\u001b[0m\u001b[1;33m\u001b[0m\u001b[1;33m\u001b[0m\u001b[0m\n\u001b[0;32m      7\u001b[0m \u001b[0mprint\u001b[0m\u001b[1;33m(\u001b[0m\u001b[0mmonthsL\u001b[0m\u001b[1;33m)\u001b[0m\u001b[1;33m\u001b[0m\u001b[1;33m\u001b[0m\u001b[0m\n\u001b[1;32m----> 8\u001b[1;33m \u001b[0mmonthsT\u001b[0m\u001b[1;33m.\u001b[0m\u001b[0mreverse\u001b[0m\u001b[1;33m(\u001b[0m\u001b[1;33m)\u001b[0m\u001b[1;33m\u001b[0m\u001b[1;33m\u001b[0m\u001b[0m\n\u001b[0m\u001b[0;32m      9\u001b[0m \u001b[0mprint\u001b[0m\u001b[1;33m(\u001b[0m\u001b[0mmonthsT\u001b[0m\u001b[1;33m)\u001b[0m\u001b[1;33m\u001b[0m\u001b[1;33m\u001b[0m\u001b[0m\n",
      "\u001b[1;31mAttributeError\u001b[0m: 'tuple' object has no attribute 'reverse'"
     ]
    }
   ],
   "source": [
    "#Problem 23\n",
    "monthsL = ['Jan', 'Feb', 'Mar', 'May']\n",
    "monthsT = ('Jan', 'Feb', 'Mar', 'May')\n",
    "\n",
    "#Part e\n",
    "monthsL.reverse()\n",
    "print(monthsL)\n",
    "monthsT.reverse()\n",
    "print(monthsT)"
   ]
  },
  {
   "cell_type": "code",
   "execution_count": 120,
   "metadata": {},
   "outputs": [
    {
     "name": "stdout",
     "output_type": "stream",
     "text": [
      "['Feb', 'Jan', 'Mar', 'May']\n"
     ]
    },
    {
     "ename": "AttributeError",
     "evalue": "'tuple' object has no attribute 'sort'",
     "output_type": "error",
     "traceback": [
      "\u001b[1;31m---------------------------------------------------------------------------\u001b[0m",
      "\u001b[1;31mAttributeError\u001b[0m                            Traceback (most recent call last)",
      "\u001b[1;32m<ipython-input-120-533ec6e74604>\u001b[0m in \u001b[0;36m<module>\u001b[1;34m\u001b[0m\n\u001b[0;32m      6\u001b[0m \u001b[0mmonthsL\u001b[0m\u001b[1;33m.\u001b[0m\u001b[0msort\u001b[0m\u001b[1;33m(\u001b[0m\u001b[1;33m)\u001b[0m\u001b[1;33m\u001b[0m\u001b[1;33m\u001b[0m\u001b[0m\n\u001b[0;32m      7\u001b[0m \u001b[0mprint\u001b[0m\u001b[1;33m(\u001b[0m\u001b[0mmonthsL\u001b[0m\u001b[1;33m)\u001b[0m\u001b[1;33m\u001b[0m\u001b[1;33m\u001b[0m\u001b[0m\n\u001b[1;32m----> 8\u001b[1;33m \u001b[0mmonthsT\u001b[0m\u001b[1;33m.\u001b[0m\u001b[0msort\u001b[0m\u001b[1;33m(\u001b[0m\u001b[1;33m)\u001b[0m\u001b[1;33m\u001b[0m\u001b[1;33m\u001b[0m\u001b[0m\n\u001b[0m\u001b[0;32m      9\u001b[0m \u001b[0mprint\u001b[0m\u001b[1;33m(\u001b[0m\u001b[0mmonthsT\u001b[0m\u001b[1;33m)\u001b[0m\u001b[1;33m\u001b[0m\u001b[1;33m\u001b[0m\u001b[0m\n",
      "\u001b[1;31mAttributeError\u001b[0m: 'tuple' object has no attribute 'sort'"
     ]
    }
   ],
   "source": [
    "#Problem 23\n",
    "monthsL = ['Jan', 'Feb', 'Mar', 'May']\n",
    "monthsT = ('Jan', 'Feb', 'Mar', 'May')\n",
    "\n",
    "#Part f\n",
    "monthsL.sort()\n",
    "print(monthsL)\n",
    "monthsT.sort()\n",
    "print(monthsT)"
   ]
  },
  {
   "cell_type": "code",
   "execution_count": 124,
   "metadata": {},
   "outputs": [
    {
     "name": "stdout",
     "output_type": "stream",
     "text": [
      "[3, 4, 3, 3, 1, 1]\n"
     ]
    }
   ],
   "source": [
    "#Problem 24\n",
    "grades = ['B', 'A', 'D', 'C', 'B', 'A', 'B', 'D', 'F', 'D', 'A', 'C', 'B', 'C', 'E']\n",
    "count = [grades.count('A'), grades.count('B'), grades.count('C'), grades.count('D'), grades.count('E'), grades.count('F')]\n",
    "print(count)"
   ]
  },
  {
   "cell_type": "code",
   "execution_count": 125,
   "metadata": {},
   "outputs": [
    {
     "name": "stdout",
     "output_type": "stream",
     "text": [
      "[3, 4, 3, 3, 1, 1]\n"
     ]
    }
   ],
   "source": [
    "#Problem 25\n",
    "grades = ('B', 'A', 'D', 'C', 'B', 'A', 'B', 'D', 'F', 'D', 'A', 'C', 'B', 'C', 'E')\n",
    "count = [grades.count('A'), grades.count('B'), grades.count('C'), grades.count('D'), grades.count('E'), grades.count('F')]\n",
    "print(count)"
   ]
  },
  {
   "cell_type": "code",
   "execution_count": 127,
   "metadata": {},
   "outputs": [
    {
     "name": "stdout",
     "output_type": "stream",
     "text": [
      "Enter the value of x: 0\n",
      "Enter the value of y: 0\n",
      "True\n",
      "Enter the value of x: 10\n",
      "Enter the value of y: 10\n",
      "True\n",
      "Enter the value of x: 6\n",
      "Enter the value of y: -6\n",
      "True\n",
      "Enter the value of x: -7\n",
      "Enter the value of y: 8\n",
      "True\n"
     ]
    }
   ],
   "source": [
    "#Problem 26\n",
    "radius = 10\n",
    "#Part a\n",
    "x = int(input(\"Enter the value of x: \"))\n",
    "y = int(input(\"Enter the value of y: \"))\n",
    "if x<=radius and y<=radius:\n",
    "    print(\"True\")\n",
    "else:\n",
    "    print(\"False\")\n",
    "\n",
    "#Part b\n",
    "x = int(input(\"Enter the value of x: \"))\n",
    "y = int(input(\"Enter the value of y: \"))\n",
    "if x<=radius and y<=radius:\n",
    "    print(\"True\")\n",
    "else:\n",
    "    print(\"False\")\n",
    "\n",
    "#Part c\n",
    "x = int(input(\"Enter the value of x: \"))\n",
    "y = int(input(\"Enter the value of y: \"))\n",
    "if x<=radius and y<=radius:\n",
    "    print(\"True\")\n",
    "else:\n",
    "    print(\"False\")\n",
    "\n",
    "#Part d\n",
    "x = int(input(\"Enter the value of x: \"))\n",
    "y = int(input(\"Enter the value of y: \"))\n",
    "if x<=radius and y<=radius:\n",
    "    print(\"True\")\n",
    "else:\n",
    "    print(\"False\")"
   ]
  },
  {
   "cell_type": "code",
   "execution_count": 128,
   "metadata": {},
   "outputs": [
    {
     "name": "stdout",
     "output_type": "stream",
     "text": [
      "15.454813220625093\n",
      "0.0\n",
      "16.970562748477143\n",
      "23.63538607229299\n"
     ]
    }
   ],
   "source": [
    "#Problem 27\n",
    "from math import pi\n",
    "from math import sin\n",
    "\n",
    "#Part a\n",
    "length1 = 16\n",
    "degree1 = 75\n",
    "radians1 = float(pi * degree1/180)\n",
    "height1 = float(length1 * sin(radians1))\n",
    "print(height1)\n",
    "\n",
    "#Part b\n",
    "length2 = 20\n",
    "degree2 = 0\n",
    "radians2 = float(pi * degree2/180)\n",
    "height2 = float(length2 * sin(radians2))\n",
    "print(height2)\n",
    "\n",
    "#Part c\n",
    "length3 = 24\n",
    "degree3 = 45\n",
    "radians3 = float(pi * degree3/180)\n",
    "height3 = float(length3 * sin(radians3))\n",
    "print(height3)\n",
    "\n",
    "#Part d\n",
    "length4 = 24\n",
    "degree4 = 80\n",
    "radians4 = float(pi * degree4/180)\n",
    "height4 = float(length4 * sin(radians4))\n",
    "print(height4)"
   ]
  },
  {
   "cell_type": "code",
   "execution_count": 131,
   "metadata": {},
   "outputs": [
    {
     "name": "stdout",
     "output_type": "stream",
     "text": [
      "6\n",
      "108\n",
      "[112, 108, 100, 87, 82, 70, 35, 32, 25, 23, 17, 11, 7]\n",
      "[112, 108, 100, 87, 82, 70, 35, 25, 23, 17, 11, 7, 32]\n"
     ]
    }
   ],
   "source": [
    "#Problem 28\n",
    "lst = [32, 25, 17, 7, 82, 35, 108, 100, 23, 70, 11, 112, 87]\n",
    "\n",
    "#Part a\n",
    "list_length = len(lst)\n",
    "middle_index = int(list_length / 2)\n",
    "print(middle_index)\n",
    "\n",
    "#Part b\n",
    "lst1 = lst[6]\n",
    "print(lst1)\n",
    "\n",
    "#Part c\n",
    "lst2 = lst\n",
    "lst2.sort(reverse = True)\n",
    "print(lst2)\n",
    "\n",
    "#Part d\n",
    "lst.remove(32)\n",
    "lst.extend([32])\n",
    "print(lst)"
   ]
  },
  {
   "cell_type": "code",
   "execution_count": 146,
   "metadata": {},
   "outputs": [
    {
     "name": "stdout",
     "output_type": "stream",
     "text": [
      "True\n",
      "True\n",
      "True\n"
     ]
    }
   ],
   "source": [
    "#Problem 29\n",
    "#Part a\n",
    "a = 0 == (1 == 2) # 1 == 2 evaluates to 0 then 0 == 0 which is true\n",
    "print(a)\n",
    "#Part b\n",
    "b = 2 + (3 == 4) + 5 == 7 #3 == 4 evaluates to 0 then 2 + 0 + 5 == 7 which is true\n",
    "print(b)\n",
    "#Part c\n",
    "c = (1 < -1) == (3 > 4) #1 < -1 evaluates to 0 also 3 > 4 evaluates to 0 thus 0 == 0 which is true\n",
    "print(c)"
   ]
  },
  {
   "cell_type": "code",
   "execution_count": 148,
   "metadata": {},
   "outputs": [
    {
     "name": "stdout",
     "output_type": "stream",
     "text": [
      "Conversion in list: ['Hello', 'Everyone', 'and', 'Welcome', 'to', 'Usman', 'Institute', 'of', 'Technology']\n"
     ]
    }
   ],
   "source": [
    "#Problem 30\n",
    "s = 'Hello Everyone and Welcome to Usman Institute of Technology'\n",
    "print('Conversion in list:',s.split()) #The string is converted in list with help of split functiion, it generates a list by taking substrings from string s "
   ]
  },
  {
   "cell_type": "code",
   "execution_count": 150,
   "metadata": {},
   "outputs": [
    {
     "name": "stdout",
     "output_type": "stream",
     "text": [
      "[2, 3, 4, 5, 6]\n",
      "[2, 3, 4, 5, 6]\n",
      "[]\n"
     ]
    }
   ],
   "source": [
    "#Problem 31\n",
    "lst = [2, 3, 4]\n",
    "lst.extend ([5, 6]) # lst.extend() adds value in the list after the last item in the list it takes parameters depending on the input of user\n",
    "print(lst)\n",
    "lst2 = lst.copy() # lst.copy() copies the list and stores it in another variable it does not take any parameters\n",
    "print(lst2)\n",
    "lst.clear() # lst.clear() deletes everything present in the list it takes no parameters\n",
    "print(lst)"
   ]
  }
 ],
 "metadata": {
  "kernelspec": {
   "display_name": "Python 3",
   "language": "python",
   "name": "python3"
  },
  "language_info": {
   "codemirror_mode": {
    "name": "ipython",
    "version": 3
   },
   "file_extension": ".py",
   "mimetype": "text/x-python",
   "name": "python",
   "nbconvert_exporter": "python",
   "pygments_lexer": "ipython3",
   "version": "3.7.3"
  }
 },
 "nbformat": 4,
 "nbformat_minor": 2
}
